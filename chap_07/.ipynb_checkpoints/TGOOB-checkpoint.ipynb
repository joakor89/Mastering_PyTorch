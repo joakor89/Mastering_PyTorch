{
 "cells": [
  {
   "cell_type": "markdown",
   "id": "7b3c85b1-5011-4dc0-89c5-c7f76a7ba749",
   "metadata": {},
   "source": [
    "# Text Generator Out of The Box\n",
    "\n",
    "### Loading Libraries"
   ]
  },
  {
   "cell_type": "code",
   "execution_count": 3,
   "id": "4897b503-c447-43e1-ab79-6a4ac105d56a",
   "metadata": {},
   "outputs": [],
   "source": [
    "# Numerical Computing\n",
    "import numpy as np\n",
    "import math\n",
    "\n",
    "# Time\n",
    "import time\n",
    "\n",
    "# Data Manipulation\n",
    "import polars as pl\n",
    "import pandas as pd\n",
    "\n",
    "# Data Visualization\n",
    "import seaborn as sns\n",
    "import matplotlib.pyplot as plt\n",
    "\n",
    "# Network\n",
    "import networkx as nx\n",
    "\n",
    "# Scikit-Learn\n",
    "import sklearn\n",
    "from sklearn.manifold import TSNE\n",
    "\n",
    "# PyTorch\n",
    "import torch\n",
    "import torch.nn as nn\n",
    "import torch.optim as optim\n",
    "from torchviz import make_dot\n",
    "import torch.nn.functional as F\n",
    "from torch.autograd import Variable\n",
    "from torch.utils.data import dataset\n",
    "from torchvision import datasets, transforms\n",
    "from transformers import GPT2LMHeadModel, GPT2Tokenizer\n",
    "from torch.nn import TransformerEncoder, TransformerEncoderLayer"
   ]
  },
  {
   "cell_type": "markdown",
   "id": "2afc139e-49f5-4a88-8104-6e286247d3d4",
   "metadata": {},
   "source": [
    "### Placing HyperParameters"
   ]
  },
  {
   "cell_type": "code",
   "execution_count": 4,
   "id": "63ae4c17-6e9f-4962-9a5b-49e6ff07339a",
   "metadata": {},
   "outputs": [],
   "source": [
    "torch.manual_seed(799)\n",
    "tkz = GPT2Tokenizer.from_pretrained(\"gpt2\")\n",
    "mdl = GPT2LMHeadModel.from_pretrained('gpt2')\n",
    "ln = 10\n",
    "cue = \"They\"\n",
    "gen = tkz(cue, return_tensors=\"pt\")\n",
    "to_ret = gen[\"input_ids\"][0]"
   ]
  },
  {
   "cell_type": "code",
   "execution_count": 5,
   "id": "8b3eaf18-0dc4-45d6-9f40-42838d1bfa45",
   "metadata": {},
   "outputs": [
    {
     "name": "stdout",
     "output_type": "stream",
     "text": [
      "They are not the only ones who are being targeted.\n"
     ]
    }
   ],
   "source": [
    "prv=None\n",
    "\n",
    "for i in range(ln):\n",
    "    outputs = mdl(**gen)\n",
    "    next_token_logits = torch.argmax(outputs.logits[-1, :])\n",
    "    to_ret = torch.cat([to_ret, next_token_logits.unsqueeze(0)])\n",
    "    gen = {\"input_ids\": to_ret}\n",
    "\n",
    "seq = tkz.decode(to_ret)\n",
    "\n",
    "print(seq)"
   ]
  },
  {
   "cell_type": "code",
   "execution_count": 6,
   "id": "24e26947-4451-433e-b13d-5f611b8b8dd8",
   "metadata": {},
   "outputs": [
    {
     "name": "stderr",
     "output_type": "stream",
     "text": [
      "The attention mask is not set and cannot be inferred from input because pad token is same as eos token. As a consequence, you may observe unexpected behavior. Please pass your input's `attention_mask` to obtain reliable results.\n"
     ]
    },
    {
     "name": "stdout",
     "output_type": "stream",
     "text": [
      "They are not the only ones who are being targeted\n"
     ]
    }
   ],
   "source": [
    "ip_ids = tkz.encode(cue, return_tensors='pt')\n",
    "op_greedy = mdl.generate(ip_ids, max_length=ln, pad_token_id=tkz.eos_token_id)\n",
    "seq = tkz.decode(op_greedy[0], skip_special_tokens=True)\n",
    "\n",
    "print(seq)"
   ]
  },
  {
   "cell_type": "code",
   "execution_count": 7,
   "id": "f6585697-4f7f-488c-84c7-c0a2a1fa0fcf",
   "metadata": {},
   "outputs": [
    {
     "name": "stdout",
     "output_type": "stream",
     "text": [
      "They have a lot of\n",
      "They have a lot to\n",
      "They are not the only\n"
     ]
    }
   ],
   "source": [
    "op_beam = mdl.generate(\n",
    "    ip_ids, \n",
    "    max_length=5, \n",
    "    num_beams=3, \n",
    "    num_return_sequences=3,\n",
    "    pad_token_id=tkz.eos_token_id\n",
    ")\n",
    "\n",
    "for op_beam_cur in op_beam:\n",
    "    print(tkz.decode(op_beam_cur, skip_special_tokens=True))"
   ]
  },
  {
   "cell_type": "code",
   "execution_count": 8,
   "id": "19432ea5-da70-4556-9e14-68c78a7bda82",
   "metadata": {},
   "outputs": [
    {
     "name": "stdout",
     "output_type": "stream",
     "text": [
      "They are the most important\n",
      "They have a lot to\n",
      "They are not going to\n"
     ]
    }
   ],
   "source": [
    "for i in range(3):\n",
    "    torch.manual_seed(i+10)\n",
    "    op = mdl.generate(\n",
    "        ip_ids, \n",
    "        do_sample=True, \n",
    "        max_length=5, \n",
    "        top_k=2,\n",
    "        pad_token_id=tkz.eos_token_id\n",
    "    )\n",
    "\n",
    "    seq = tkz.decode(op[0], skip_special_tokens=True)\n",
    "    print(seq)"
   ]
  },
  {
   "cell_type": "code",
   "execution_count": 9,
   "id": "735b8cc1-8d9d-484c-ad6e-73a0ff72d7e3",
   "metadata": {},
   "outputs": [
    {
     "name": "stdout",
     "output_type": "stream",
     "text": [
      "They are not the only\n",
      "They are not the only\n",
      "They are not the only\n"
     ]
    }
   ],
   "source": [
    "for i in range(3):\n",
    "    torch.manual_seed(i+10)\n",
    "    op_greedy = mdl.generate(ip_ids, max_length=5, pad_token_id=tkz.eos_token_id)\n",
    "    seq = tkz.decode(op_greedy[0], skip_special_tokens=True)\n",
    "    print(seq)"
   ]
  },
  {
   "cell_type": "code",
   "execution_count": 10,
   "id": "bffe21a6-8b2e-4561-ae56-31ad91f7e8d7",
   "metadata": {},
   "outputs": [
    {
     "name": "stdout",
     "output_type": "stream",
     "text": [
      "They got them here in\n",
      "They have also challenged foreign\n",
      "They said it would be\n"
     ]
    }
   ],
   "source": [
    "for i in range(3):\n",
    "    torch.manual_seed(i+10)\n",
    "    op = mdl.generate(\n",
    "        ip_ids, \n",
    "        do_sample=True, \n",
    "        max_length=5, \n",
    "        top_p=0.75, \n",
    "        top_k=0,\n",
    "        pad_token_id=tkz.eos_token_id\n",
    "    )\n",
    "\n",
    "    seq = tkz.decode(op[0], skip_special_tokens=True)\n",
    "    print(seq)"
   ]
  },
  {
   "cell_type": "code",
   "execution_count": null,
   "id": "48a4770b-db0c-4801-800f-a1aa0eab437a",
   "metadata": {},
   "outputs": [],
   "source": []
  }
 ],
 "metadata": {
  "kernelspec": {
   "display_name": "Python 3 (ipykernel)",
   "language": "python",
   "name": "python3"
  },
  "language_info": {
   "codemirror_mode": {
    "name": "ipython",
    "version": 3
   },
   "file_extension": ".py",
   "mimetype": "text/x-python",
   "name": "python",
   "nbconvert_exporter": "python",
   "pygments_lexer": "ipython3",
   "version": "3.11.11"
  }
 },
 "nbformat": 4,
 "nbformat_minor": 5
}
