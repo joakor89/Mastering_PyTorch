{
 "cells": [
  {
   "cell_type": "markdown",
   "id": "5c4cdbe7-c753-471b-82ec-3be060f87bb1",
   "metadata": {},
   "source": [
    "# RestNet\n",
    "\n",
    "### Loading Libraries"
   ]
  },
  {
   "cell_type": "code",
   "execution_count": 1,
   "id": "b925a11f-450d-4706-82ea-48f90719b2b7",
   "metadata": {},
   "outputs": [],
   "source": [
    "# Operating Systems\n",
    "import os\n",
    "import time\n",
    "import copy\n",
    "\n",
    "# Numerical Computing\n",
    "import numpy as np\n",
    "\n",
    "# Data Visualization\n",
    "import matplotlib.pyplot as plt\n",
    "\n",
    "# PyTorch\n",
    "import torch\n",
    "import torchvision\n",
    "import torch.nn as nn\n",
    "import torch.optim as optim\n",
    "from torch.optim import lr_scheduler\n",
    "from torchvision import datasets, models, transforms"
   ]
  },
  {
   "cell_type": "code",
   "execution_count": 2,
   "id": "bb0edc75-1b4f-4545-b497-a4026c400f8b",
   "metadata": {},
   "outputs": [],
   "source": [
    "torch.use_deterministic_algorithms(True)"
   ]
  },
  {
   "cell_type": "markdown",
   "id": "430d3289-f994-4bcc-afae-d68e6ca757a6",
   "metadata": {},
   "source": [
    "### Basic Block"
   ]
  },
  {
   "cell_type": "code",
   "execution_count": 3,
   "id": "bd90e95b-5150-45a2-a108-2ac2cdf8f330",
   "metadata": {},
   "outputs": [],
   "source": [
    "class BasicBlock(nn.Module):\n",
    "    multiplier=1\n",
    "    def __init__(self, input_num_planes, num_planes, strd=1):\n",
    "        super(BasicBlock, self).__init__()\n",
    "        self.conv_layer1 = nn.Conv2d(in_channels=input_num_planes, out_channels=num_planes, kernel_size=3, stride=stride, padding=1, bias=False)\n",
    "        self.batch_norm1 = nn.BatchNorm2d(num_planes)\n",
    "        self.conv_layer2 = nn.Conv2d(in_channels=num_planes, out_channels=num_planes, kernel_size=3, stride=1, padding=1, bias=False)\n",
    "        self.batch_norm2 = nn.BatchNorm2d(num_planes)\n",
    " \n",
    "        self.res_connnection = nn.Sequential()\n",
    "        if strd > 1 or input_num_planes != self.multiplier*num_planes:\n",
    "            self.res_connnection = nn.Sequential(\n",
    "                nn.Conv2d(in_channels=input_num_planes, out_channels=self.multiplier*num_planes, kernel_size=1, stride=strd, bias=False),\n",
    "                nn.BatchNorm2d(self.multiplier*num_planes)\n",
    "            )\n",
    "    def forward(self, inp):\n",
    "        op = F.relu(self.batch_norm1(self.conv_layer1(inp)))\n",
    "        op = self.batch_norm2(self.conv_layer2(op))\n",
    "        op += self.res_connnection(inp)\n",
    "        op = F.relu(op)\n",
    "        return op"
   ]
  },
  {
   "cell_type": "code",
   "execution_count": null,
   "id": "c76cfd9b-affd-4bc4-b7a4-8ec23f881a85",
   "metadata": {},
   "outputs": [],
   "source": []
  }
 ],
 "metadata": {
  "kernelspec": {
   "display_name": "Python 3 (ipykernel)",
   "language": "python",
   "name": "python3"
  },
  "language_info": {
   "codemirror_mode": {
    "name": "ipython",
    "version": 3
   },
   "file_extension": ".py",
   "mimetype": "text/x-python",
   "name": "python",
   "nbconvert_exporter": "python",
   "pygments_lexer": "ipython3",
   "version": "3.11.10"
  }
 },
 "nbformat": 4,
 "nbformat_minor": 5
}
