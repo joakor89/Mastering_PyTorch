{
 "cells": [
  {
   "cell_type": "markdown",
   "id": "91fc379f-7d25-4896-a75d-01e955711d14",
   "metadata": {},
   "source": [
    "# DenseNet Block\n",
    "\n",
    "### Loading Libraries"
   ]
  },
  {
   "cell_type": "code",
   "execution_count": 1,
   "id": "90731383-5658-4dee-a92e-f878e01692ea",
   "metadata": {},
   "outputs": [],
   "source": [
    "# Operating Systems\n",
    "import os\n",
    "import time\n",
    "import copy\n",
    "\n",
    "# Numerical Computing\n",
    "import numpy as np\n",
    "\n",
    "# Data Visualization\n",
    "import matplotlib.pyplot as plt\n",
    "\n",
    "# PyTorch\n",
    "import torch\n",
    "import torchvision\n",
    "import torch.nn as nn\n",
    "import torch.optim as optim\n",
    "from torch.optim import lr_scheduler\n",
    "from torchvision import datasets, models, transforms"
   ]
  },
  {
   "cell_type": "code",
   "execution_count": 2,
   "id": "df174c3b-6b22-421f-9036-30ecb154e549",
   "metadata": {},
   "outputs": [],
   "source": [
    "torch.use_deterministic_algorithms(True)"
   ]
  },
  {
   "cell_type": "markdown",
   "id": "288f3161-8637-45ba-8537-3712b552e1ec",
   "metadata": {},
   "source": [
    "### DenseNet Procedure"
   ]
  },
  {
   "cell_type": "code",
   "execution_count": 3,
   "id": "4a45397d-65da-4710-a56f-2dfcb9219b41",
   "metadata": {},
   "outputs": [],
   "source": [
    "class DenseBlock(nn.Module):\n",
    "    def __init__(self, input_num_planes, rate_inc):\n",
    "        super(DenseBlock, self).__init__()\n",
    "        self.batch_norm1 = nn.BatchNorm2d(input_num_planes)\n",
    "        self.conv_layer1 = nn.Conv2d(in_channels=input_num_planes, out_channels=4*rate_inc, kernel_size=1, bias=False)\n",
    "        self.batch_norm2 = nn.BatchNorm2d(4*rate_inc)\n",
    "        self.conv_layer2 = nn.Conv2d(in_channels=4*rate_inc, out_channels=rate_inc, kernel_size=3, padding=1, bias=False)\n",
    "    def forward(self, inp):\n",
    "        op = self.conv_layer1(F.relu(self.batch_norm1(inp)))\n",
    "        op = self.conv_layer2(F.relu(self.batch_norm2(op)))\n",
    "        op = torch.cat([op,inp], 1)\n",
    "        return op\n",
    "\n",
    "class TransBlock(nn.Module):\n",
    "    def __init__(self, input_num_planes, output_num_planes):\n",
    "        super(TransBlock, self).__init__()\n",
    "        self.batch_norm = nn.BatchNorm2d(input_num_planes)\n",
    "        self.conv_layer = nn.Conv2d(in_channels=input_num_planes, out_channels=output_num_planes, kernel_size=1, bias=False)\n",
    "    def forward(self, inp):\n",
    "        op = self.conv_layer(F.relu(self.batch_norm(inp)))\n",
    "        op = F.avg_pool2d(op, 2)\n",
    "        return op"
   ]
  },
  {
   "cell_type": "code",
   "execution_count": null,
   "id": "cd9a3db4-6571-4d37-b825-7a3a85eb40b5",
   "metadata": {},
   "outputs": [],
   "source": []
  }
 ],
 "metadata": {
  "kernelspec": {
   "display_name": "Python 3 (ipykernel)",
   "language": "python",
   "name": "python3"
  },
  "language_info": {
   "codemirror_mode": {
    "name": "ipython",
    "version": 3
   },
   "file_extension": ".py",
   "mimetype": "text/x-python",
   "name": "python",
   "nbconvert_exporter": "python",
   "pygments_lexer": "ipython3",
   "version": "3.11.10"
  }
 },
 "nbformat": 4,
 "nbformat_minor": 5
}
