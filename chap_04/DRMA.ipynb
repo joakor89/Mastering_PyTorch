{
 "cells": [
  {
   "cell_type": "markdown",
   "id": "c69036c4-c974-437c-9990-b880b4743b72",
   "metadata": {},
   "source": [
    "# Deep Recurrent Model Architecture\n",
    "\n",
    "### Loading Libraries"
   ]
  },
  {
   "cell_type": "code",
   "execution_count": 4,
   "id": "46d4971b-d245-499a-833d-34cbb2a4ffe3",
   "metadata": {},
   "outputs": [],
   "source": [
    "# Operating Systems\n",
    "import os\n",
    "import time\n",
    "import copy\n",
    "from string import punctuation\n",
    "from collections import Counter\n",
    "\n",
    "# Notebook Performance\n",
    "from tqdm import tqdm\n",
    "\n",
    "# Numerical Computing\n",
    "import numpy as np\n",
    "\n",
    "# Data Visualization\n",
    "import matplotlib.pyplot as plt\n",
    "\n",
    "# PyTorch\n",
    "import torch\n",
    "import torchvision\n",
    "import torch.nn as nn\n",
    "import torch.optim as optim\n",
    "from torch.optim import lr_scheduler\n",
    "from torchvision import datasets, models, transforms\n",
    "from torch.utils.data import DataLoader, TensorDataset\n",
    "\n",
    "# Tokenization\n",
    "import nltk\n",
    "import pycocotools"
   ]
  },
  {
   "cell_type": "code",
   "execution_count": 6,
   "id": "c07a5787-007c-4fee-b8fe-c9f87f3cd873",
   "metadata": {},
   "outputs": [],
   "source": [
    "torch.use_deterministic_algorithms(True)"
   ]
  },
  {
   "cell_type": "code",
   "execution_count": 7,
   "id": "78469530-330a-40f4-8d99-a6960c0e8dc2",
   "metadata": {},
   "outputs": [],
   "source": [
    "device = torch.device('cuda' if torch.cuda.is_available() else 'cpu')"
   ]
  },
  {
   "cell_type": "markdown",
   "id": "c4a8d3fa-5b6b-48c3-9e4f-59bf438d1f1e",
   "metadata": {},
   "source": [
    "### Dataset Instructions"
   ]
  },
  {
   "cell_type": "code",
   "execution_count": 9,
   "id": "58290761-15a5-4fc2-88b1-26fe21f5887e",
   "metadata": {},
   "outputs": [],
   "source": [
    "# review_list = []\n",
    "# label_list = []\n",
    "# for label in ['pos', 'neg']:\n",
    "#     for fname in tqdm(os.listdir(f'./aclImdb/train/{label}/')):\n",
    "#         if 'txt' not in fname:\n",
    "#             continue\n",
    "#         with open(os.path.join(f'./aclImdb/train/{label}/', fname), encoding=\"utf8\") as f:\n",
    "#             review_list += [f.read()]\n",
    "#             label_list += [label]\n",
    "# print ('Number of reviews :', len(review_list))"
   ]
  },
  {
   "cell_type": "code",
   "execution_count": null,
   "id": "4d65b0ee-0db3-4f2b-aca9-a3cc270da801",
   "metadata": {},
   "outputs": [],
   "source": []
  }
 ],
 "metadata": {
  "kernelspec": {
   "display_name": "Python 3 (ipykernel)",
   "language": "python",
   "name": "python3"
  },
  "language_info": {
   "codemirror_mode": {
    "name": "ipython",
    "version": 3
   },
   "file_extension": ".py",
   "mimetype": "text/x-python",
   "name": "python",
   "nbconvert_exporter": "python",
   "pygments_lexer": "ipython3",
   "version": "3.11.10"
  }
 },
 "nbformat": 4,
 "nbformat_minor": 5
}
