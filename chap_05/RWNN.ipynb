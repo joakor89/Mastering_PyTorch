{
 "cells": [
  {
   "cell_type": "markdown",
   "id": "a042a92f-395d-485c-9a7c-b130608447b8",
   "metadata": {},
   "source": [
    "# Rand Wire Neural Network\n",
    "\n",
    "### Loading Libraries"
   ]
  },
  {
   "cell_type": "code",
   "execution_count": 2,
   "id": "542c386e-9ddf-4f98-8a5b-3e004cf35ddb",
   "metadata": {},
   "outputs": [],
   "source": [
    "# Operating Systems\n",
    "import os\n",
    "import time\n",
    "import yaml\n",
    "import random\n",
    "\n",
    "# Numerical Computing\n",
    "import numpy as np\n",
    "\n",
    "# Data Manipulation\n",
    "import polars as pl\n",
    "import pandas as pd\n",
    "\n",
    "# Data Visualization\n",
    "import seaborn as sns\n",
    "import matplotlib.pyplot as plt\n",
    "# PyTorch\n",
    "import torch\n",
    "import torch.nn as nn\n",
    "import torch.optim as optim\n",
    "from torchviz import make_dot\n",
    "import torch.nn.functional as F\n",
    "from torch.autograd import Variable\n",
    "from torchvision import datasets, transforms\n",
    "\n",
    "\n",
    "# Network\n",
    "import networkx as nx\n",
    "\n",
    "use_cuda = torch.cuda.is_available()\n",
    "device = torch.device(\"cuda\" if use_cuda else \"cpu\")"
   ]
  },
  {
   "cell_type": "code",
   "execution_count": 3,
   "id": "6ccbce86-2818-4af7-a986-712512703aa7",
   "metadata": {},
   "outputs": [],
   "source": [
    "# Cuda's\n",
    "use_cuda = torch.cuda.is_available()\n",
    "\n",
    "device = torch.device(\"cuda\" if use_cuda else \"cpu\")"
   ]
  },
  {
   "cell_type": "code",
   "execution_count": 4,
   "id": "a3e8dc2c-d40f-4354-9358-5b32720b1f75",
   "metadata": {},
   "outputs": [],
   "source": [
    "torch.use_deterministic_algorithms(True)"
   ]
  },
  {
   "cell_type": "markdown",
   "id": "e47a4a88-3b8a-44d1-9ca2-6ff86ab9c7bc",
   "metadata": {},
   "source": [
    "#### Helper Functions()"
   ]
  },
  {
   "cell_type": "code",
   "execution_count": 5,
   "id": "7071a2be-032a-43f7-8095-4154907cc222",
   "metadata": {},
   "outputs": [],
   "source": [
    "def plot_results(list_of_epochs, list_of_train_losses, list_of_train_accuracies, list_of_val_accuracies):\n",
    "    plt.figure(figsize=(20, 9))\n",
    "    plt.subplot(1, 2, 1)\n",
    "    plt.plot(list_of_epochs, list_of_train_losses, label='training loss')\n",
    "    plt.legend()\n",
    "\n",
    "    plt.subplot(1, 2, 2)\n",
    "    plt.plot(list_of_epochs, list_of_train_accuracies, label='training accuracy')\n",
    "    plt.plot(list_of_epochs, list_of_val_accuracies, label='validation accuracy')\n",
    "    plt.legend()\n",
    "    if not os.path.isdir('./result_plots'):\n",
    "        os.makedirs('./result_plots')\n",
    "    plt.savefig('./result_plots/accuracy_plot_per_epoch.jpg')\n",
    "    plt.close()"
   ]
  },
  {
   "cell_type": "markdown",
   "id": "ff1e3e6d-0d55-4320-9e4a-12dc98917947",
   "metadata": {},
   "source": [
    "### Training Routine"
   ]
  },
  {
   "cell_type": "code",
   "execution_count": 6,
   "id": "e2ac0ada-5f82-4f2d-a488-a3a1780a6bf5",
   "metadata": {},
   "outputs": [],
   "source": [
    "def set_lr(optim, epoch_num, lrate):\n",
    "    \"\"\"adjusts lr to starting lr thereafter reduced by 10% at every 20 epochs\"\"\"\n",
    "    lrate = lrate * (0.1 ** (epoch_num // 20))\n",
    "    for params in optim.param_groups:\n",
    "        params['lr'] = lrate"
   ]
  },
  {
   "cell_type": "markdown",
   "id": "756091da-f6c9-48c0-9c5d-832f62b19270",
   "metadata": {},
   "source": [
    "#### Model Training"
   ]
  },
  {
   "cell_type": "code",
   "execution_count": 7,
   "id": "f63085e2-da93-4e34-b97e-7f6692992636",
   "metadata": {},
   "outputs": [],
   "source": [
    "def train(model, train_dataloader, optim, loss_func, epoch_num, lrate):\n",
    "    model.train()\n",
    "    loop_iter = 0\n",
    "    training_loss = 0\n",
    "    training_accuracy = 0\n",
    "    for training_data, training_label in train_dataloader:\n",
    "        set_lr(optim, epoch_num, lrate)\n",
    "        training_data, training_label = training_data.to(device), training_label.to(device)\n",
    "        optim.zero_grad()\n",
    "        pred_raw = model(training_data)\n",
    "        curr_loss = loss_func(pred_raw, training_label)\n",
    "        curr_loss.backward()\n",
    "        optim.step()\n",
    "        training_loss += curr_loss.data\n",
    "        pred = pred_raw.data.max(1)[1]\n",
    "\n",
    "        curr_accuracy = float(pred.eq(training_label.data).sum()) * 100. / len(training_data) \n",
    "        training_accuracy += curr_accuracy\n",
    "        loop_iter += 1\n",
    "        if loop_iter % 100 == 0:\n",
    "            print(f\"epoch {epoch_num}, loss: {curr_loss.data}, accuracy: {curr_accuracy}\")\n",
    "\n",
    "    data_size = len(train_dataloader.dataset) // batch_size\n",
    "    return training_loss / data_size, training_accuracy / data_size"
   ]
  },
  {
   "cell_type": "markdown",
   "id": "7ff982ca-e322-41a7-8f1e-8af236bac82e",
   "metadata": {},
   "source": [
    "#### Accuracy Metric"
   ]
  },
  {
   "cell_type": "code",
   "execution_count": 8,
   "id": "7e519bd7-a12c-4b1e-b42f-c7c8520c5d2b",
   "metadata": {},
   "outputs": [],
   "source": [
    "def accuracy(model, test_data_loader):\n",
    "    model.eval()\n",
    "    success = 0\n",
    "    with torch.no_grad():\n",
    "        for test_data, test_label in test_data_loader:\n",
    "            test_data, test_label = test_data.to(device), test_label.to(device)\n",
    "            pred_raw = model(test_data)\n",
    "            pred = pred_raw.data.max(1)[1]\n",
    "            success += pred.eq(test_label.data).sum()\n",
    "\n",
    "    return float(success) * 100. / len(test_data_loader.dataset)"
   ]
  },
  {
   "cell_type": "markdown",
   "id": "dd5dcf66-a9fc-4fa6-b904-ebfd8a3b7439",
   "metadata": {},
   "source": [
    "### Hyperparams Initialization"
   ]
  },
  {
   "cell_type": "code",
   "execution_count": null,
   "id": "bdec7ee8-02a1-451b-8594-8587d79dab54",
   "metadata": {},
   "outputs": [],
   "source": []
  }
 ],
 "metadata": {
  "kernelspec": {
   "display_name": "Python 3 (ipykernel)",
   "language": "python",
   "name": "python3"
  },
  "language_info": {
   "codemirror_mode": {
    "name": "ipython",
    "version": 3
   },
   "file_extension": ".py",
   "mimetype": "text/x-python",
   "name": "python",
   "nbconvert_exporter": "python",
   "pygments_lexer": "ipython3",
   "version": "3.11.11"
  }
 },
 "nbformat": 4,
 "nbformat_minor": 5
}
