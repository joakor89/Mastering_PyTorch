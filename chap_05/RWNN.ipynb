{
 "cells": [
  {
   "cell_type": "markdown",
   "id": "a042a92f-395d-485c-9a7c-b130608447b8",
   "metadata": {},
   "source": [
    "# Rand Wire Neural Network\n",
    "\n",
    "### Loading Libraries"
   ]
  },
  {
   "cell_type": "code",
   "execution_count": 2,
   "id": "542c386e-9ddf-4f98-8a5b-3e004cf35ddb",
   "metadata": {},
   "outputs": [],
   "source": [
    "# Operating Systems\n",
    "import os\n",
    "import time\n",
    "import yaml\n",
    "import random\n",
    "\n",
    "# Numerical Computing\n",
    "import numpy as np\n",
    "\n",
    "# Data Manipulation\n",
    "import polars as pl\n",
    "import pandas as pd\n",
    "\n",
    "# Data Visualization\n",
    "import seaborn as sns\n",
    "import matplotlib.pyplot as plt\n",
    "# PyTorch\n",
    "import torch\n",
    "import torch.nn as nn\n",
    "import torch.optim as optim\n",
    "from torchviz import make_dot\n",
    "import torch.nn.functional as F\n",
    "from torch.autograd import Variable\n",
    "from torchvision import datasets, transforms\n",
    "\n",
    "\n",
    "# Network\n",
    "import networkx as nx\n",
    "\n",
    "use_cuda = torch.cuda.is_available()\n",
    "device = torch.device(\"cuda\" if use_cuda else \"cpu\")"
   ]
  },
  {
   "cell_type": "code",
   "execution_count": 3,
   "id": "6ccbce86-2818-4af7-a986-712512703aa7",
   "metadata": {},
   "outputs": [],
   "source": [
    "# Cuda's\n",
    "use_cuda = torch.cuda.is_available()\n",
    "\n",
    "device = torch.device(\"cuda\" if use_cuda else \"cpu\")"
   ]
  },
  {
   "cell_type": "code",
   "execution_count": 4,
   "id": "a3e8dc2c-d40f-4354-9358-5b32720b1f75",
   "metadata": {},
   "outputs": [],
   "source": [
    "torch.use_deterministic_algorithms(True)"
   ]
  },
  {
   "cell_type": "markdown",
   "id": "e47a4a88-3b8a-44d1-9ca2-6ff86ab9c7bc",
   "metadata": {},
   "source": [
    "#### Helper Functions()"
   ]
  },
  {
   "cell_type": "code",
   "execution_count": 5,
   "id": "7071a2be-032a-43f7-8095-4154907cc222",
   "metadata": {},
   "outputs": [],
   "source": [
    "def plot_results(list_of_epochs, list_of_train_losses, list_of_train_accuracies, list_of_val_accuracies):\n",
    "    plt.figure(figsize=(20, 9))\n",
    "    plt.subplot(1, 2, 1)\n",
    "    plt.plot(list_of_epochs, list_of_train_losses, label='training loss')\n",
    "    plt.legend()\n",
    "\n",
    "    plt.subplot(1, 2, 2)\n",
    "    plt.plot(list_of_epochs, list_of_train_accuracies, label='training accuracy')\n",
    "    plt.plot(list_of_epochs, list_of_val_accuracies, label='validation accuracy')\n",
    "    plt.legend()\n",
    "    if not os.path.isdir('./result_plots'):\n",
    "        os.makedirs('./result_plots')\n",
    "    plt.savefig('./result_plots/accuracy_plot_per_epoch.jpg')\n",
    "    plt.close()"
   ]
  },
  {
   "cell_type": "markdown",
   "id": "ff1e3e6d-0d55-4320-9e4a-12dc98917947",
   "metadata": {},
   "source": [
    "### Training Routine"
   ]
  },
  {
   "cell_type": "code",
   "execution_count": 6,
   "id": "e2ac0ada-5f82-4f2d-a488-a3a1780a6bf5",
   "metadata": {},
   "outputs": [],
   "source": [
    "def set_lr(optim, epoch_num, lrate):\n",
    "    \"\"\"adjusts lr to starting lr thereafter reduced by 10% at every 20 epochs\"\"\"\n",
    "    lrate = lrate * (0.1 ** (epoch_num // 20))\n",
    "    for params in optim.param_groups:\n",
    "        params['lr'] = lrate"
   ]
  },
  {
   "cell_type": "markdown",
   "id": "756091da-f6c9-48c0-9c5d-832f62b19270",
   "metadata": {},
   "source": [
    "#### Model Training"
   ]
  },
  {
   "cell_type": "code",
   "execution_count": 7,
   "id": "f63085e2-da93-4e34-b97e-7f6692992636",
   "metadata": {},
   "outputs": [],
   "source": [
    "def train(model, train_dataloader, optim, loss_func, epoch_num, lrate):\n",
    "    model.train()\n",
    "    loop_iter = 0\n",
    "    training_loss = 0\n",
    "    training_accuracy = 0\n",
    "    for training_data, training_label in train_dataloader:\n",
    "        set_lr(optim, epoch_num, lrate)\n",
    "        training_data, training_label = training_data.to(device), training_label.to(device)\n",
    "        optim.zero_grad()\n",
    "        pred_raw = model(training_data)\n",
    "        curr_loss = loss_func(pred_raw, training_label)\n",
    "        curr_loss.backward()\n",
    "        optim.step()\n",
    "        training_loss += curr_loss.data\n",
    "        pred = pred_raw.data.max(1)[1]\n",
    "\n",
    "        curr_accuracy = float(pred.eq(training_label.data).sum()) * 100. / len(training_data) \n",
    "        training_accuracy += curr_accuracy\n",
    "        loop_iter += 1\n",
    "        if loop_iter % 100 == 0:\n",
    "            print(f\"epoch {epoch_num}, loss: {curr_loss.data}, accuracy: {curr_accuracy}\")\n",
    "\n",
    "    data_size = len(train_dataloader.dataset) // batch_size\n",
    "    return training_loss / data_size, training_accuracy / data_size"
   ]
  },
  {
   "cell_type": "markdown",
   "id": "7ff982ca-e322-41a7-8f1e-8af236bac82e",
   "metadata": {},
   "source": [
    "#### Accuracy Metric"
   ]
  },
  {
   "cell_type": "code",
   "execution_count": 8,
   "id": "7e519bd7-a12c-4b1e-b42f-c7c8520c5d2b",
   "metadata": {},
   "outputs": [],
   "source": [
    "def accuracy(model, test_data_loader):\n",
    "    model.eval()\n",
    "    success = 0\n",
    "    with torch.no_grad():\n",
    "        for test_data, test_label in test_data_loader:\n",
    "            test_data, test_label = test_data.to(device), test_label.to(device)\n",
    "            pred_raw = model(test_data)\n",
    "            pred = pred_raw.data.max(1)[1]\n",
    "            success += pred.eq(test_label.data).sum()\n",
    "\n",
    "    return float(success) * 100. / len(test_data_loader.dataset)"
   ]
  },
  {
   "cell_type": "markdown",
   "id": "dd5dcf66-a9fc-4fa6-b904-ebfd8a3b7439",
   "metadata": {},
   "source": [
    "### Hyperparams Initialization"
   ]
  },
  {
   "cell_type": "code",
   "execution_count": 9,
   "id": "bdec7ee8-02a1-451b-8594-8587d79dab54",
   "metadata": {},
   "outputs": [],
   "source": [
    "num_epochs = 5\n",
    "\n",
    "graph_probability = 0.7\n",
    "\n",
    "node_channel_count = 64\n",
    "\n",
    "num_nodes = 16\n",
    "\n",
    "lrate = 0.1\n",
    "\n",
    "batch_size = 64\n",
    "\n",
    "train_mode = True"
   ]
  },
  {
   "cell_type": "markdown",
   "id": "2bd774a6-e119-47b6-aef6-52d8ce2ae542",
   "metadata": {},
   "source": [
    "### Data Loader"
   ]
  },
  {
   "cell_type": "code",
   "execution_count": 10,
   "id": "58e78ab1-d60f-4af1-8c71-54e30903fdb5",
   "metadata": {},
   "outputs": [
    {
     "name": "stdout",
     "output_type": "stream",
     "text": [
      "Downloading https://www.cs.toronto.edu/~kriz/cifar-10-python.tar.gz to dataset/cifar-10-python.tar.gz\n"
     ]
    },
    {
     "name": "stderr",
     "output_type": "stream",
     "text": [
      "100%|████████████████████████████████████████| 170M/170M [00:06<00:00, 27.2MB/s]\n"
     ]
    },
    {
     "name": "stdout",
     "output_type": "stream",
     "text": [
      "Extracting dataset/cifar-10-python.tar.gz to dataset\n"
     ]
    }
   ],
   "source": [
    "def load_dataset(batch_size):\n",
    "    transform_train_dataset = transforms.Compose([\n",
    "        transforms.RandomCrop(32, padding=4),\n",
    "        transforms.RandomHorizontalFlip(),\n",
    "        transforms.ToTensor(),\n",
    "        transforms.Normalize((0.4983, 0.4795, 0.4382), (0.2712, 0.2602, 0.2801)),\n",
    "    ])\n",
    "\n",
    "    transform_test_dataset = transforms.Compose([\n",
    "        transforms.ToTensor(),\n",
    "        transforms.Normalize((0.4983, 0.4795, 0.4382), (0.2712, 0.2602, 0.2801)),\n",
    "    ])\n",
    "    train_dataloader = torch.utils.data.DataLoader(\n",
    "        datasets.CIFAR10('dataset', transform=transform_train_dataset, train=True, download=True),\n",
    "        batch_size=batch_size,\n",
    "        shuffle=True\n",
    "    )\n",
    "    test_dataloader = torch.utils.data.DataLoader(\n",
    "        datasets.CIFAR10('dataset', transform=transform_test_dataset, train=False),\n",
    "        batch_size=batch_size,\n",
    "        shuffle=False\n",
    "    )\n",
    "    return train_dataloader, test_dataloader\n",
    "train_dataloader, test_dataloader = load_dataset(batch_size)"
   ]
  },
  {
   "cell_type": "markdown",
   "id": "d750470c-1fbb-45b8-a7dd-13a4ed220137",
   "metadata": {},
   "source": [
    "### Graph Class()"
   ]
  },
  {
   "cell_type": "code",
   "execution_count": 11,
   "id": "95bdadf7-c1bc-4794-a669-e4474bddf19f",
   "metadata": {},
   "outputs": [],
   "source": [
    "class RndGraph(object):\n",
    "    def __init__(self, num_nodes, graph_probability, nearest_neighbour_k=4, num_edges_attach=5):\n",
    "        self.num_nodes = num_nodes\n",
    "        self.graph_probability = graph_probability\n",
    "        self.nearest_neighbour_k = nearest_neighbour_k\n",
    "        self.num_edges_attach = num_edges_attach\n",
    "\n",
    "    def make_graph_obj(self):\n",
    "        graph_obj = nx.random_graphs.connected_watts_strogatz_graph(self.num_nodes, self.nearest_neighbour_k, \n",
    "                                                                self.graph_probability)\n",
    "        return graph_obj\n",
    "\n",
    "    def get_graph_config(self, graph_obj):\n",
    "        incoming_edges = {}\n",
    "        incoming_edges[0] = []\n",
    "        node_list = [0]\n",
    "        last = []\n",
    "        for n in graph_obj.nodes():\n",
    "            neighbor_list = list(graph_obj.neighbors(n))\n",
    "            neighbor_list.sort()\n",
    "\n",
    "            edge_list = []\n",
    "            passed_list = []\n",
    "            for nbr in neighbor_list:\n",
    "                if n > nbr:\n",
    "                    edge_list.append(nbr + 1)\n",
    "                    passed_list.append(nbr)\n",
    "            if not edge_list:\n",
    "                edge_list.append(0)\n",
    "            incoming_edges[n + 1] = edge_list\n",
    "            if passed_list == neighbor_list:\n",
    "                last.append(n + 1)\n",
    "            node_list.append(n + 1)\n",
    "        incoming_edges[self.num_nodes + 1] = last\n",
    "        node_list.append(self.num_nodes + 1)\n",
    "        return node_list, incoming_edges\n",
    "\n",
    "    def save_graph(self, graph_obj, path_to_write):\n",
    "        if not os.path.isdir(\"cached_graph_obj\"):\n",
    "            os.mkdir(\"cached_graph_obj\")\n",
    "        with open(f\"./cached_graph_obj/{path_to_write}\", \"w\") as fh:\n",
    "            yaml.dump(graph_obj, fh)\n",
    "\n",
    "    def load_graph(self, path_to_read):\n",
    "        with open(f\"./cached_graph_obj/{path_to_read}\", \"r\") as fh:\n",
    "            return yaml.load(fh, Loader=yaml.Loader)"
   ]
  },
  {
   "cell_type": "markdown",
   "id": "900bbd8b-0da2-478e-aec6-e51d1c9a3d2b",
   "metadata": {},
   "source": [
    "### RandWire"
   ]
  },
  {
   "cell_type": "code",
   "execution_count": 12,
   "id": "29e05905-2779-47fd-a5a0-245bc0b4b009",
   "metadata": {},
   "outputs": [],
   "source": [
    "def initialize_weights(layer):\n",
    "    if isinstance(layer, nn.Conv2d):\n",
    "        torch.nn.init.xavier_uniform_(layer.weight)\n",
    "        if layer.bias is not None:\n",
    "            torch.nn.init.zeros_(layer.bias)"
   ]
  },
  {
   "cell_type": "code",
   "execution_count": 13,
   "id": "6f1d229c-afb5-419e-b7a1-4ab9ea85c82c",
   "metadata": {},
   "outputs": [],
   "source": [
    "class SepConv2d(nn.Module):\n",
    "    def __init__(self, input_ch, output_ch, kernel_length=3, dilation_size=1, padding_size=1, stride_length=1, bias_flag=True):\n",
    "        super(SepConv2d, self).__init__()\n",
    "        self.conv_layer = nn.Conv2d(input_ch, input_ch, kernel_length, stride_length, padding_size, dilation_size, \n",
    "                              bias=bias_flag, groups=input_ch)\n",
    "        self.pointwise_layer = nn.Conv2d(input_ch, output_ch, kernel_size=1, stride=1, padding=0, dilation=1, \n",
    "                                         groups=1, bias=bias_flag)\n",
    "\n",
    "    def forward(self, x):\n",
    "        return self.pointwise_layer(self.conv_layer(x))"
   ]
  },
  {
   "cell_type": "code",
   "execution_count": 14,
   "id": "0432ece1-313c-4ae1-9822-d8ce0aeb8aca",
   "metadata": {},
   "outputs": [],
   "source": [
    "class UnitLayer(nn.Module):\n",
    "    def __init__(self, input_ch, output_ch, stride_length=1):\n",
    "        super(UnitLayer, self).__init__()\n",
    "\n",
    "        self.dropout = 0.3\n",
    "\n",
    "        self.unit_layer = nn.Sequential(\n",
    "            nn.ReLU(),\n",
    "            SepConv2d(input_ch, output_ch, stride_length=stride_length),\n",
    "            nn.BatchNorm2d(output_ch),\n",
    "            nn.Dropout(self.dropout)\n",
    "        )\n",
    "\n",
    "    def forward(self, x):\n",
    "        return self.unit_layer(x)"
   ]
  },
  {
   "cell_type": "code",
   "execution_count": 15,
   "id": "0e7dd121-d933-4f61-b691-1c32c7859945",
   "metadata": {},
   "outputs": [],
   "source": [
    "class GraphNode(nn.Module):\n",
    "    def __init__(self, input_degree, input_ch, output_ch, stride_length=1):\n",
    "        super(GraphNode, self).__init__()\n",
    "        self.input_degree = input_degree\n",
    "        if len(self.input_degree) > 1:\n",
    "            self.params = nn.Parameter(torch.ones(len(self.input_degree), requires_grad=True))\n",
    "        self.unit_layer = UnitLayer(input_ch, output_ch, stride_length=stride_length)\n",
    "\n",
    "    def forward(self, *ip):\n",
    "        if len(self.input_degree) > 1:\n",
    "            op = (ip[0] * torch.sigmoid(self.params[0]))\n",
    "            for idx in range(1, len(ip)):\n",
    "                op += (ip[idx] * torch.sigmoid(self.params[idx]))\n",
    "            return self.unit_layer(op)\n",
    "        else:\n",
    "            return self.unit_layer(ip[0])"
   ]
  },
  {
   "cell_type": "code",
   "execution_count": 16,
   "id": "2207aea6-d27e-4cf8-9a17-4bb89718ae4e",
   "metadata": {},
   "outputs": [],
   "source": [
    "class RandWireGraph(nn.Module):\n",
    "    def __init__(self, num_nodes, graph_prob, input_ch, output_ch, train_mode, graph_name):\n",
    "        super(RandWireGraph, self).__init__()\n",
    "        self.num_nodes = num_nodes\n",
    "        self.graph_prob = graph_prob\n",
    "        self.input_ch = input_ch\n",
    "        self.output_ch = output_ch\n",
    "        self.train_mode = train_mode\n",
    "        self.graph_name = graph_name\n",
    "\n",
    "        # get graph nodes and in edges\n",
    "        rnd_graph_node = RndGraph(self.num_nodes, self.graph_prob)\n",
    "        if self.train_mode is True:\n",
    "            print(\"train_mode: ON\")\n",
    "            rnd_graph = rnd_graph_node.make_graph_obj()\n",
    "            self.node_list, self.incoming_edge_list = rnd_graph_node.get_graph_config(rnd_graph)\n",
    "            rnd_graph_node.save_graph(rnd_graph, graph_name)\n",
    "        else:\n",
    "            rnd_graph = rnd_graph_node.load_graph(graph_name)\n",
    "            self.node_list, self.incoming_edge_list = rnd_graph_node.get_graph_config(rnd_graph)\n",
    "\n",
    "        # define input Node\n",
    "        self.list_of_modules = nn.ModuleList([GraphNode(self.incoming_edge_list[0], self.input_ch, self.output_ch, \n",
    "                                                        stride_length=2)])\n",
    "        # define the rest Node\n",
    "        self.list_of_modules.extend([GraphNode(self.incoming_edge_list[n], self.output_ch, self.output_ch) \n",
    "                                     for n in self.node_list if n > 0])\n",
    "\n",
    "    def forward(self, x):\n",
    "        mem_dict = {}\n",
    "        # start vertex\n",
    "        op = self.list_of_modules[0].forward(x)\n",
    "        mem_dict[0] = op\n",
    "\n",
    "        # the rest vertex\n",
    "        for n in range(1, len(self.node_list) - 1):\n",
    "            # print(node, self.in_edges[node][0], self.in_edges[node])\n",
    "            if len(self.incoming_edge_list[n]) > 1:\n",
    "                op = self.list_of_modules[n].forward(*[mem_dict[incoming_vtx] \n",
    "                                                       for incoming_vtx in self.incoming_edge_list[n]])\n",
    "            else:\n",
    "                op = self.list_of_modules[n].forward(mem_dict[self.incoming_edge_list[n][0]])\n",
    "            mem_dict[n] = op\n",
    "            \n",
    "        op = mem_dict[self.incoming_edge_list[self.num_nodes + 1][0]]\n",
    "        for incoming_vtx in range(1, len(self.incoming_edge_list[self.num_nodes + 1])):\n",
    "            op += mem_dict[self.incoming_edge_list[self.num_nodes + 1][incoming_vtx]]\n",
    "        return op / len(self.incoming_edge_list[self.num_nodes + 1])"
   ]
  },
  {
   "cell_type": "markdown",
   "id": "8c26ec81-5c63-42fb-8cbd-ca70c66d55b8",
   "metadata": {},
   "source": [
    "### `RandWire` NN Model"
   ]
  },
  {
   "cell_type": "code",
   "execution_count": 17,
   "id": "d3086a11-d9ee-40cd-b58f-7c6fb57c2d2c",
   "metadata": {},
   "outputs": [],
   "source": [
    "class RandWireNNModel(nn.Module):\n",
    "    def __init__(self, num_nodes, graph_prob, input_ch, output_ch, train_mode):\n",
    "        super(RandWireNNModel, self).__init__()\n",
    "        self.num_nodes = num_nodes\n",
    "        self.graph_prob = graph_prob\n",
    "        self.input_ch = input_ch\n",
    "        self.output_ch = output_ch\n",
    "        self.train_mode = train_mode\n",
    "        self.dropout = 0.3\n",
    "        self.class_num = 10\n",
    "            \n",
    "        self.conv_layer_1 = nn.Sequential(\n",
    "            nn.Conv2d(in_channels=3, out_channels=self.output_ch, kernel_size=3, padding=1),\n",
    "            nn.BatchNorm2d(self.output_ch),\n",
    "        )\n",
    "\n",
    "        self.conv_layer_2 = nn.Sequential(\n",
    "            RandWireGraph(self.num_nodes, self.graph_prob, self.input_ch, self.output_ch*2, self.train_mode, \n",
    "                          graph_name=\"conv_layer_2\")\n",
    "        )\n",
    "        self.conv_layer_3 = nn.Sequential(\n",
    "            RandWireGraph(self.num_nodes, self.graph_prob, self.input_ch*2, self.output_ch*4, self.train_mode, \n",
    "                          graph_name=\"conv_layer_3\")\n",
    "        )\n",
    "        self.conv_layer_4 = nn.Sequential(\n",
    "            RandWireGraph(self.num_nodes, self.graph_prob, self.input_ch*4, self.output_ch*8, self.train_mode, \n",
    "                          graph_name=\"conv_layer_4\")\n",
    "        )\n",
    "\n",
    "        self.classifier_layer = nn.Sequential(\n",
    "            nn.Conv2d(in_channels=self.input_ch*8, out_channels=1280, kernel_size=1),\n",
    "            nn.BatchNorm2d(1280)\n",
    "        )\n",
    "\n",
    "        self.output_layer = nn.Sequential(\n",
    "            nn.Dropout(self.dropout),\n",
    "            nn.Linear(1280, self.class_num)\n",
    "        )\n",
    "\n",
    "    def forward(self, x):\n",
    "        x = self.conv_layer_1(x)\n",
    "        x = self.conv_layer_2(x)\n",
    "        x = self.conv_layer_3(x)\n",
    "        x = self.conv_layer_4(x)\n",
    "        x = self.classifier_layer(x)\n",
    "\n",
    "        # global average pooling\n",
    "        _, _, h, w = x.size()\n",
    "        x = F.avg_pool2d(x, kernel_size=[h, w])\n",
    "        x = torch.squeeze(x)\n",
    "        x = self.output_layer(x)\n",
    "\n",
    "        return x"
   ]
  },
  {
   "cell_type": "markdown",
   "id": "f99160c9-7c9b-4b0e-850e-c0e5fe1abe02",
   "metadata": {},
   "source": [
    "### Training Loop"
   ]
  },
  {
   "cell_type": "code",
   "execution_count": null,
   "id": "a5622205-c30b-4707-91d4-03615ad35c54",
   "metadata": {},
   "outputs": [
    {
     "name": "stdout",
     "output_type": "stream",
     "text": [
      "train_mode: ON\n",
      "train_mode: ON\n",
      "train_mode: ON\n"
     ]
    }
   ],
   "source": [
    "rand_wire_model = RandWireNNModel(num_nodes, graph_probability, node_channel_count, node_channel_count, train_mode).to(device)\n",
    "\n",
    "optim_module = optim.SGD(rand_wire_model.parameters(), lr=lrate, weight_decay=1e-4, momentum=0.8)\n",
    "loss_func = nn.CrossEntropyLoss().to(device)\n",
    "\n",
    "epochs = []\n",
    "test_accuracies = []\n",
    "training_accuracies = []\n",
    "training_losses = []\n",
    "best_test_accuracy = 0\n",
    "\n",
    "start_time = time.time()\n",
    "for ep in range(1, num_epochs + 1):\n",
    "    epochs.append(ep)\n",
    "    training_loss, training_accuracy = train(rand_wire_model, train_dataloader, optim_module, loss_func, ep, lrate)\n",
    "    test_accuracy = accuracy(rand_wire_model, test_dataloader)\n",
    "    test_accuracies.append(test_accuracy)\n",
    "    training_losses.append(training_loss)\n",
    "    training_accuracies.append(training_accuracy)\n",
    "    print('test acc: {0:.2f}%, best test acc: {1:.2f}%'.format(test_accuracy, best_test_accuracy))\n",
    "\n",
    "    if best_test_accuracy < test_accuracy:\n",
    "        model_state = {\n",
    "            'model': rand_wire_model.state_dict(),\n",
    "            'accuracy': test_accuracy,\n",
    "            'ep': ep,\n",
    "        }\n",
    "        if not os.path.isdir('model_checkpoint'):\n",
    "            os.mkdir('model_checkpoint')\n",
    "        model_filename = \"ch_count_\" + str(node_channel_count) + \"_prob_\" + str(graph_probability)\n",
    "        torch.save(model_state, './model_checkpoint/' + model_filename + 'ckpt.t7')\n",
    "        best_test_accuracy = test_accuracy\n",
    "        plot_results(epochs, training_losses, training_accuracies, test_accuracies)\n",
    "    print(\"model train time: \", time.time() - start_time)"
   ]
  },
  {
   "cell_type": "markdown",
   "id": "e47b5937-2578-4c48-9080-d785250d3ef4",
   "metadata": {},
   "source": [
    "### Test Model"
   ]
  },
  {
   "cell_type": "code",
   "execution_count": null,
   "id": "8a64e465-6836-46a4-b282-916b710f63cd",
   "metadata": {},
   "outputs": [],
   "source": [
    "def num_model_params(model_obj):\n",
    "    num_params = 0\n",
    "    for l in list(model_obj.parameters()):\n",
    "        l_p = 1\n",
    "        for p in list(l.size()):\n",
    "            l_p *= p\n",
    "        num_params += l_p\n",
    "    return num_params\n",
    "\n",
    "print(\"total model params: \", num_model_params(rand_wire_model))"
   ]
  },
  {
   "cell_type": "code",
   "execution_count": null,
   "id": "9ef2d5ab-90ce-4c1e-a80a-fcf04dbf79c7",
   "metadata": {},
   "outputs": [],
   "source": [
    "if os.path.exists(\"./model_checkpoint\"):\n",
    "    rand_wire_nn_model = RandWireNNModel(num_nodes, graph_probability, node_channel_count, node_channel_count, \n",
    "                                         train_mode=False).to(device)\n",
    "    model_filename = \"ch_count_\" + str(node_channel_count) + \"_prob_\" + str(graph_probability)\n",
    "    model_checkpoint = torch.load('./model_checkpoint/' + model_filename + 'ckpt.t7')\n",
    "    rand_wire_nn_model.load_state_dict(model_checkpoint['model'])\n",
    "    last_ep = model_checkpoint['ep']\n",
    "    best_model_accuracy = model_checkpoint['accuracy']\n",
    "    print(f\"best model accuracy: {best_model_accuracy}%, last epoch: {last_ep}\")\n",
    "\n",
    "    rand_wire_nn_model.eval()\n",
    "    success = 0\n",
    "    for test_data, test_label in test_dataloader:\n",
    "        test_data, test_label = test_data.to(device), test_label.to(device)\n",
    "        pred_raw = rand_wire_nn_model(test_data)\n",
    "        pred = pred_raw.data.max(1)[1]\n",
    "        success += pred.eq(test_label.data).sum()\n",
    "    print(f\"test accuracy: {float(success) * 100. / len(test_dataloader.dataset)} %\")\n",
    "\n",
    "else:\n",
    "    assert False, \"File not found. Please check again.\""
   ]
  },
  {
   "cell_type": "markdown",
   "id": "61545cd7-51e3-437d-a98a-f33c9b483437",
   "metadata": {},
   "source": [
    "### `Model Graph` Visualization"
   ]
  },
  {
   "cell_type": "code",
   "execution_count": null,
   "id": "993d6b08-5555-444b-8d84-df8e5d56f4c1",
   "metadata": {},
   "outputs": [],
   "source": [
    "x = torch.randn(2, 3, 32, 32)\n",
    "y = rand_wire_nn_model(x)\n",
    "g = make_dot(y.mean(), params=dict(rand_wire_nn_model.named_parameters()))\n",
    "g.format='svg'\n",
    "g.filename = 'image2'\n",
    "g.render(view=False)"
   ]
  },
  {
   "cell_type": "code",
   "execution_count": null,
   "id": "804400ca-7ff7-46be-b0be-99758bfdd637",
   "metadata": {},
   "outputs": [],
   "source": [
    "g"
   ]
  }
 ],
 "metadata": {
  "kernelspec": {
   "display_name": "Python 3 (ipykernel)",
   "language": "python",
   "name": "python3"
  },
  "language_info": {
   "codemirror_mode": {
    "name": "ipython",
    "version": 3
   },
   "file_extension": ".py",
   "mimetype": "text/x-python",
   "name": "python",
   "nbconvert_exporter": "python",
   "pygments_lexer": "ipython3",
   "version": "3.11.11"
  }
 },
 "nbformat": 4,
 "nbformat_minor": 5
}
