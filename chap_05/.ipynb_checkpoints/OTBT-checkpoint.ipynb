{
 "cells": [
  {
   "cell_type": "markdown",
   "id": "6d633e60-9edc-4709-af89-a6e5ade0d888",
   "metadata": {},
   "source": [
    "# Out of The Box Transformer\n",
    "\n",
    "### Loading Libraries"
   ]
  },
  {
   "cell_type": "code",
   "execution_count": 5,
   "id": "d0259550-1f7d-451e-bf08-576a942bb157",
   "metadata": {},
   "outputs": [],
   "source": [
    "# Operating Systems\n",
    "import os\n",
    "import time\n",
    "import copy\n",
    "from string import punctuation\n",
    "from collections import Counter\n",
    "\n",
    "# Notebook Performance\n",
    "from tqdm import tqdm\n",
    "\n",
    "# Numerical Computing\n",
    "import numpy as np\n",
    "\n",
    "# Data Visualization\n",
    "import matplotlib.pyplot as plt\n",
    "\n",
    "# PyTorch\n",
    "import torch\n",
    "import torchvision\n",
    "import torch.nn as nn\n",
    "import torch.optim as optim\n",
    "from torch.optim import lr_scheduler\n",
    "from torchvision import datasets, models, transforms\n",
    "from torch.utils.data import DataLoader, TensorDataset\n",
    "\n",
    "# Tokenization\n",
    "import nltk\n",
    "import pycocotools"
   ]
  },
  {
   "cell_type": "code",
   "execution_count": 4,
   "id": "2c9cb6c8-dbc6-4aaa-8228-640395a1ff4f",
   "metadata": {},
   "outputs": [],
   "source": [
    "torch.use_deterministic_algorithms(True)"
   ]
  },
  {
   "cell_type": "code",
   "execution_count": 7,
   "id": "920da547-5ef5-4904-8ae3-9a13370af7ab",
   "metadata": {},
   "outputs": [],
   "source": [
    "import torch\n",
    "\n",
    "from transformers import BertForMaskedLM, BertTokenizer"
   ]
  },
  {
   "cell_type": "code",
   "execution_count": 8,
   "id": "476ea151-abdd-4616-8345-cc4f515e7268",
   "metadata": {},
   "outputs": [],
   "source": [
    "# Model\n",
    "bert_model = BertForMaskedLM.from_pretrained('bert-base-uncased')\n",
    "\n",
    "# Token Generator\n",
    "token_gen = BertTokenizer.from_pretrained('bert-base-uncased')\n",
    "\n",
    "\n",
    "ip_sequence = token_gen(\"I love PyTorch !\", return_tensors=\"pt\")[\"input_ids\"]\n",
    " \n",
    "op = bert_model(ip_sequence, labels=ip_sequence)\n",
    "total_loss, raw_preds = op[:2]"
   ]
  },
  {
   "cell_type": "code",
   "execution_count": null,
   "id": "37243502-801a-40b0-8d02-02043af8210d",
   "metadata": {},
   "outputs": [],
   "source": []
  }
 ],
 "metadata": {
  "kernelspec": {
   "display_name": "Python 3 (ipykernel)",
   "language": "python",
   "name": "python3"
  },
  "language_info": {
   "codemirror_mode": {
    "name": "ipython",
    "version": 3
   },
   "file_extension": ".py",
   "mimetype": "text/x-python",
   "name": "python",
   "nbconvert_exporter": "python",
   "pygments_lexer": "ipython3",
   "version": "3.11.10"
  }
 },
 "nbformat": 4,
 "nbformat_minor": 5
}
