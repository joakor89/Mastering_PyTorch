{
 "cells": [
  {
   "cell_type": "markdown",
   "id": "6828cec0-78a4-4cf5-8756-8b68f5f533d7",
   "metadata": {},
   "source": [
    "# Graph Neural Networks\n",
    "\n",
    "### Loading Libraries"
   ]
  },
  {
   "cell_type": "code",
   "execution_count": 1,
   "id": "7d686857-ec5f-40db-bc11-5de2ab0457fb",
   "metadata": {},
   "outputs": [],
   "source": [
    "# Operating Systems\n",
    "import os\n",
    "import math\n",
    "import time\n",
    "import yaml\n",
    "import random\n",
    "\n",
    "# Numerical Computing\n",
    "import numpy as np\n",
    "\n",
    "# Data Manipulation\n",
    "import polars as pl\n",
    "import pandas as pd\n",
    "\n",
    "# Data Visualization\n",
    "import seaborn as sns\n",
    "import matplotlib.pyplot as plt\n",
    "\n",
    "# Scikit-Learn\n",
    "import sklearn\n",
    "from sklearn.manifold import TSNE\n",
    "\n",
    "# PyTorch\n",
    "import torch\n",
    "import torch.nn as nn\n",
    "import torch.optim as optim\n",
    "from torchviz import make_dot\n",
    "import torch.nn.functional as F\n",
    "from torch.autograd import Variable\n",
    "from torch.utils.data import dataset\n",
    "from torchvision import datasets, transforms\n",
    "from torch.nn import TransformerEncoder, TransformerEncoderLayer\n",
    "\n",
    "# PyTorch Geometry\n",
    "from torch_geometric.nn import GCNConv\n",
    "from torch_geometric.nn import GATConv\n",
    "from torch_geometric.utils import to_networkx\n",
    "from torch_geometric.datasets import Planetoid\n",
    "\n",
    "# Network\n",
    "import networkx as nx"
   ]
  },
  {
   "cell_type": "code",
   "execution_count": 2,
   "id": "65fa7054-b672-41cd-b856-220c57218567",
   "metadata": {},
   "outputs": [],
   "source": [
    "# Cuda's\n",
    "use_cuda = torch.cuda.is_available()\n",
    "\n",
    "device = torch.device(\"cuda\" if use_cuda else \"cpu\")"
   ]
  },
  {
   "cell_type": "code",
   "execution_count": 3,
   "id": "3cdd0fc1-2a64-4cd5-8733-cb95cca627a6",
   "metadata": {},
   "outputs": [],
   "source": [
    "torch.use_deterministic_algorithms(True)"
   ]
  },
  {
   "cell_type": "markdown",
   "id": "5679a77e-0b2e-480b-9ced-45c2fe72135b",
   "metadata": {},
   "source": [
    "### Helper Functions"
   ]
  },
  {
   "cell_type": "code",
   "execution_count": 4,
   "id": "f3a1f79c-8b49-4f98-b77b-8f2fd3fd7ecf",
   "metadata": {},
   "outputs": [],
   "source": [
    "def visualize(data, labels):\n",
    "    tsne = TSNE(n_components=2, init='pca', random_state=7)\n",
    "    tsne_res = tsne.fit_transform(data)\n",
    "    v = pd.DataFrame(data,columns=[str(i) for i in range(data.shape[1])])\n",
    "    v['color'] = labels\n",
    "    v['label'] = v['color'].apply(lambda i: str(i))\n",
    "    v[\"dim1\"] = tsne_res[:,0]\n",
    "    v[\"dim2\"] = tsne_res[:,1]\n",
    "    \n",
    "    plt.figure(figsize=(12,12))\n",
    "\n",
    "    sns.scatterplot(\n",
    "        x=\"dim1\", y=\"dim2\",\n",
    "        hue=\"color\",\n",
    "        palette=sns.color_palette([\"#52D1DC\", \"#8D0004\", \"#845218\",\"#563EAA\", \"#E44658\", \"#63C100\", \"#FF7800\"]),\n",
    "        legend=False,\n",
    "        data=v,\n",
    "    )"
   ]
  },
  {
   "cell_type": "code",
   "execution_count": 5,
   "id": "b01f8e2a-4b50-41ce-a64c-421c54b85184",
   "metadata": {},
   "outputs": [],
   "source": [
    "def visualize_graph(G, color):\n",
    "    plt.figure(figsize=(75,75))\n",
    "    plt.xticks([])\n",
    "    plt.yticks([])\n",
    "    nx.draw_networkx(G, pos=nx.spring_layout(G), with_labels=False,\n",
    "                     node_color=color, cmap=\"Set2\")\n",
    "    plt.show()"
   ]
  },
  {
   "cell_type": "markdown",
   "id": "d80ba432-0aea-4cd0-9365-aaccf9dfce30",
   "metadata": {},
   "source": [
    "### Loading Graph Dataset"
   ]
  },
  {
   "cell_type": "code",
   "execution_count": 6,
   "id": "bed3429d-8d82-4a14-abb2-0f0f943c7ee3",
   "metadata": {},
   "outputs": [],
   "source": [
    "dataset = Planetoid(root='data/Planetoid', name='CiteSeer')\n",
    "\n",
    "print(f'Dataset: {dataset}:')\n",
    "print('======================')\n",
    "print(f'Number of graphs: {len(dataset)}')\n",
    "print(f'Number of features: {dataset.num_features}')\n",
    "print(f'Number of classes: {dataset.num_classes}')"
   ]
  },
  {
   "cell_type": "code",
   "execution_count": 7,
   "id": "3ade180a-5cdf-4ea7-ba14-bec81461bb83",
   "metadata": {},
   "outputs": [],
   "source": [
    "data = dataset[0]"
   ]
  },
  {
   "cell_type": "markdown",
   "id": "d7256e14-140b-4359-ba8b-3bd916d8e9b5",
   "metadata": {},
   "source": [
    "### Graph Data Description"
   ]
  },
  {
   "cell_type": "code",
   "execution_count": 8,
   "id": "2120133d-f370-4895-8a93-0c3174b8f5c7",
   "metadata": {},
   "outputs": [],
   "source": [
    "data = dataset[0]  # Get the first graph object.\n",
    "\n",
    "print(data)\n",
    "print('==============================================================')\n",
    "\n",
    "# Gather some statistics about the graph.\n",
    "print(f'Number of nodes: {data.num_nodes}')\n",
    "print(f'Number of edges: {data.num_edges}')\n",
    "print(f'Average node degree: {data.num_edges / data.num_nodes:.2f}')\n",
    "print(f'Number of training nodes: {data.train_mask.sum()}')\n",
    "print(f'Training node label rate: {int(data.train_mask.sum()) / data.num_nodes:.2f}')\n",
    "print(f'Has isolated nodes: {data.has_isolated_nodes()}')\n",
    "print(f'Has self-loops: {data.has_self_loops()}')\n",
    "print(f'Is undirected: {data.is_undirected()}')"
   ]
  },
  {
   "cell_type": "markdown",
   "id": "88c93a1f-bc46-4153-8963-7839f5055e18",
   "metadata": {},
   "source": [
    "### Graph Visualization"
   ]
  },
  {
   "cell_type": "code",
   "execution_count": 9,
   "id": "6842b10f-2ee8-4597-8937-913406982973",
   "metadata": {},
   "outputs": [],
   "source": [
    "G = to_networkx(data)\n",
    "\n",
    "visualize_graph(G, color=data.y)"
   ]
  },
  {
   "cell_type": "markdown",
   "id": "6978006d-e505-4ff0-889f-165007f35e19",
   "metadata": {},
   "source": [
    "### Graph model 1: `Classic MLP`\n",
    "\n",
    "#### Define and instantiate MLP model"
   ]
  },
  {
   "cell_type": "code",
   "execution_count": 10,
   "id": "03fc7f86-75ab-4c94-8b48-becc50d1ae52",
   "metadata": {},
   "outputs": [],
   "source": [
    "# class MLP(torch.nn.Module):\n",
    "#     def __init__(self, hidden_channels):\n",
    "#         super().__init__()\n",
    "#         torch.manual_seed(12345)\n",
    "#         self.lin1 = Linear(dataset.num_features, hidden_channels)\n",
    "#         self.lin2 = Linear(hidden_channels, dataset.num_classes)\n",
    "\n",
    "#     def forward(self, x):\n",
    "#         x = self.lin1(x)\n",
    "#         x = x.relu()\n",
    "#         x = F.dropout(x, p=0.5, training=self.training)\n",
    "#         x = self.lin2(x)\n",
    "#         return x\n",
    "\n",
    "# model = MLP(hidden_channels=16)\n",
    "# print(model)"
   ]
  },
  {
   "cell_type": "markdown",
   "id": "b8fad4b8-ffa6-4d34-b0b3-b78f31a9029c",
   "metadata": {},
   "source": [
    "### Visualize Initial MLP Embeddings for Different Graph Nodes"
   ]
  },
  {
   "cell_type": "code",
   "execution_count": 11,
   "id": "519dbbdd-17b9-42f2-a614-22dd46b08ab0",
   "metadata": {},
   "outputs": [],
   "source": [
    "# model.eval()\n",
    "# out = model(data.x)\n",
    "\n",
    "# visualize(out.detach().cpu().numpy(), data.y)"
   ]
  },
  {
   "cell_type": "markdown",
   "id": "5babec6c-ed40-4904-bf32-a0b5edde38f7",
   "metadata": {},
   "source": [
    "### Train MLP Model on Graph Dataset"
   ]
  },
  {
   "cell_type": "code",
   "execution_count": 12,
   "id": "e585d0a3-a583-42f9-b99d-1e85ccf78a3e",
   "metadata": {},
   "outputs": [],
   "source": [
    "# model = MLP(hidden_channels=16)\n",
    "# criterion = torch.nn.CrossEntropyLoss()  \n",
    "# optimizer = torch.optim.Adam(model.parameters(), lr=0.01, weight_decay=5e-3)  \n",
    "\n",
    "# def train():\n",
    "#       model.train()\n",
    "#       optimizer.zero_grad()  \n",
    "#       out = model(data.x)  \n",
    "#       loss = criterion(out[data.train_mask], data.y[data.train_mask])  \n",
    "#       loss.backward()  \n",
    "#       optimizer.step()  \n",
    "#       return loss\n",
    "\n",
    "# def test(mask):\n",
    "#       model.eval()\n",
    "#       out = model(data.x)\n",
    "#       pred = out.argmax(dim=1)  \n",
    "#       correct = pred[mask] == data.y[mask]  \n",
    "#       acc = int(correct.sum()) / int(mask.sum())  \n",
    "#       return acc\n",
    "\n",
    "# for epoch in range(1, 101):\n",
    "#     loss = train()\n",
    "#     val_acc = test(data.val_mask)\n",
    "#     print(f'Epoch: {epoch:03d}, Loss: {loss:.4f}, Val: {val_acc:.4f}')"
   ]
  },
  {
   "cell_type": "markdown",
   "id": "9cda34b3-b67a-4b7f-84a7-a1ef6c5ffb9b",
   "metadata": {},
   "source": [
    "### Evaluate Model Performance on Test Set"
   ]
  },
  {
   "cell_type": "code",
   "execution_count": 13,
   "id": "c37baf6e-5a7f-4d87-985b-9c759ecd165a",
   "metadata": {},
   "outputs": [],
   "source": [
    "# test_acc = test(data.test_mask)\n",
    "\n",
    "# print(f'Test Accuracy: {test_acc:.4f}')"
   ]
  },
  {
   "cell_type": "markdown",
   "id": "e2d03b93-4eb0-4f3b-9a9e-92f86b985775",
   "metadata": {},
   "source": [
    "### Visualize Trained Model's Embeddings for Different Graph Nodes"
   ]
  },
  {
   "cell_type": "code",
   "execution_count": null,
   "id": "14f5951f-68fc-41fc-9af7-cabb0b7b5db8",
   "metadata": {},
   "outputs": [],
   "source": []
  }
 ],
 "metadata": {
  "kernelspec": {
   "display_name": "Python 3 (ipykernel)",
   "language": "python",
   "name": "python3"
  },
  "language_info": {
   "codemirror_mode": {
    "name": "ipython",
    "version": 3
   },
   "file_extension": ".py",
   "mimetype": "text/x-python",
   "name": "python",
   "nbconvert_exporter": "python",
   "pygments_lexer": "ipython3",
   "version": "3.11.11"
  }
 },
 "nbformat": 4,
 "nbformat_minor": 5
}
