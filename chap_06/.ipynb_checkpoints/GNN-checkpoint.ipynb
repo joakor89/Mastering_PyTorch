{
 "cells": [
  {
   "cell_type": "markdown",
   "id": "6828cec0-78a4-4cf5-8756-8b68f5f533d7",
   "metadata": {},
   "source": [
    "# Graph Neural Networks\n",
    "\n",
    "### Loading Libraries"
   ]
  },
  {
   "cell_type": "code",
   "execution_count": 1,
   "id": "7d686857-ec5f-40db-bc11-5de2ab0457fb",
   "metadata": {},
   "outputs": [],
   "source": [
    "# Operating Systems\n",
    "import os\n",
    "import math\n",
    "import time\n",
    "import yaml\n",
    "import random\n",
    "\n",
    "# Numerical Computing\n",
    "import numpy as np\n",
    "\n",
    "# Data Manipulation\n",
    "import polars as pl\n",
    "import pandas as pd\n",
    "\n",
    "# Data Visualization\n",
    "import seaborn as sns\n",
    "import matplotlib.pyplot as plt\n",
    "\n",
    "# Scikit-Learn\n",
    "import sklearn\n",
    "from sklearn.manifold import TSNE\n",
    "\n",
    "# PyTorch\n",
    "import torch\n",
    "import torch.nn as nn\n",
    "import torch.optim as optim\n",
    "from torchviz import make_dot\n",
    "import torch.nn.functional as F\n",
    "from torch.autograd import Variable\n",
    "from torch.utils.data import dataset\n",
    "from torchvision import datasets, transforms\n",
    "from torch.nn import TransformerEncoder, TransformerEncoderLayer\n",
    "\n",
    "# PyTorch Geometry\n",
    "from torch_geometric.nn import GCNConv\n",
    "from torch_geometric.nn import GATConv\n",
    "from torch_geometric.utils import to_networkx\n",
    "from torch_geometric.datasets import Planetoid\n",
    "\n",
    "# Network\n",
    "import networkx as nx"
   ]
  },
  {
   "cell_type": "code",
   "execution_count": 2,
   "id": "65fa7054-b672-41cd-b856-220c57218567",
   "metadata": {},
   "outputs": [],
   "source": [
    "# Cuda's\n",
    "use_cuda = torch.cuda.is_available()\n",
    "\n",
    "device = torch.device(\"cuda\" if use_cuda else \"cpu\")"
   ]
  },
  {
   "cell_type": "code",
   "execution_count": 3,
   "id": "3cdd0fc1-2a64-4cd5-8733-cb95cca627a6",
   "metadata": {},
   "outputs": [],
   "source": [
    "torch.use_deterministic_algorithms(True)"
   ]
  },
  {
   "cell_type": "markdown",
   "id": "5679a77e-0b2e-480b-9ced-45c2fe72135b",
   "metadata": {},
   "source": [
    "### Helper Functions"
   ]
  },
  {
   "cell_type": "code",
   "execution_count": 4,
   "id": "f3a1f79c-8b49-4f98-b77b-8f2fd3fd7ecf",
   "metadata": {},
   "outputs": [],
   "source": [
    "def visualize(data, labels):\n",
    "    tsne = TSNE(n_components=2, init='pca', random_state=7)\n",
    "    tsne_res = tsne.fit_transform(data)\n",
    "    v = pd.DataFrame(data,columns=[str(i) for i in range(data.shape[1])])\n",
    "    v['color'] = labels\n",
    "    v['label'] = v['color'].apply(lambda i: str(i))\n",
    "    v[\"dim1\"] = tsne_res[:,0]\n",
    "    v[\"dim2\"] = tsne_res[:,1]\n",
    "    \n",
    "    plt.figure(figsize=(12,12))\n",
    "\n",
    "    sns.scatterplot(\n",
    "        x=\"dim1\", y=\"dim2\",\n",
    "        hue=\"color\",\n",
    "        palette=sns.color_palette([\"#52D1DC\", \"#8D0004\", \"#845218\",\"#563EAA\", \"#E44658\", \"#63C100\", \"#FF7800\"]),\n",
    "        legend=False,\n",
    "        data=v,\n",
    "    )"
   ]
  },
  {
   "cell_type": "code",
   "execution_count": 5,
   "id": "b01f8e2a-4b50-41ce-a64c-421c54b85184",
   "metadata": {},
   "outputs": [],
   "source": [
    "def visualize_graph(G, color):\n",
    "    plt.figure(figsize=(75,75))\n",
    "    plt.xticks([])\n",
    "    plt.yticks([])\n",
    "    nx.draw_networkx(G, pos=nx.spring_layout(G), with_labels=False,\n",
    "                     node_color=color, cmap=\"Set2\")\n",
    "    plt.show()"
   ]
  },
  {
   "cell_type": "markdown",
   "id": "d80ba432-0aea-4cd0-9365-aaccf9dfce30",
   "metadata": {},
   "source": [
    "### Loading Graph Dataset"
   ]
  },
  {
   "cell_type": "code",
   "execution_count": 6,
   "id": "bed3429d-8d82-4a14-abb2-0f0f943c7ee3",
   "metadata": {},
   "outputs": [],
   "source": [
    "dataset = Planetoid(root='data/Planetoid', name='CiteSeer')\n",
    "\n",
    "print(f'Dataset: {dataset}:')\n",
    "print('======================')\n",
    "print(f'Number of graphs: {len(dataset)}')\n",
    "print(f'Number of features: {dataset.num_features}')\n",
    "print(f'Number of classes: {dataset.num_classes}')"
   ]
  },
  {
   "cell_type": "code",
   "execution_count": 7,
   "id": "3ade180a-5cdf-4ea7-ba14-bec81461bb83",
   "metadata": {},
   "outputs": [],
   "source": [
    "data = dataset[0]"
   ]
  },
  {
   "cell_type": "markdown",
   "id": "d7256e14-140b-4359-ba8b-3bd916d8e9b5",
   "metadata": {},
   "source": [
    "### Graph Data Description"
   ]
  },
  {
   "cell_type": "code",
   "execution_count": 8,
   "id": "2120133d-f370-4895-8a93-0c3174b8f5c7",
   "metadata": {},
   "outputs": [],
   "source": [
    "data = dataset[0]  # Get the first graph object.\n",
    "\n",
    "print(data)\n",
    "print('==============================================================')\n",
    "\n",
    "# Gather some statistics about the graph.\n",
    "print(f'Number of nodes: {data.num_nodes}')\n",
    "print(f'Number of edges: {data.num_edges}')\n",
    "print(f'Average node degree: {data.num_edges / data.num_nodes:.2f}')\n",
    "print(f'Number of training nodes: {data.train_mask.sum()}')\n",
    "print(f'Training node label rate: {int(data.train_mask.sum()) / data.num_nodes:.2f}')\n",
    "print(f'Has isolated nodes: {data.has_isolated_nodes()}')\n",
    "print(f'Has self-loops: {data.has_self_loops()}')\n",
    "print(f'Is undirected: {data.is_undirected()}')"
   ]
  },
  {
   "cell_type": "markdown",
   "id": "88c93a1f-bc46-4153-8963-7839f5055e18",
   "metadata": {},
   "source": [
    "### Graph Visualization"
   ]
  },
  {
   "cell_type": "code",
   "execution_count": 9,
   "id": "6842b10f-2ee8-4597-8937-913406982973",
   "metadata": {},
   "outputs": [],
   "source": [
    "G = to_networkx(data)\n",
    "\n",
    "visualize_graph(G, color=data.y)"
   ]
  },
  {
   "cell_type": "markdown",
   "id": "6978006d-e505-4ff0-889f-165007f35e19",
   "metadata": {},
   "source": [
    "### Graph model 1: `Classic MLP`\n",
    "\n",
    "#### Define and instantiate MLP model"
   ]
  },
  {
   "cell_type": "code",
   "execution_count": 10,
   "id": "03fc7f86-75ab-4c94-8b48-becc50d1ae52",
   "metadata": {},
   "outputs": [],
   "source": [
    "class MLP(torch.nn.Module):\n",
    "    def __init__(self, hidden_channels):\n",
    "        super().__init__()\n",
    "        torch.manual_seed(12345)\n",
    "        self.lin1 = Linear(dataset.num_features, hidden_channels)\n",
    "        self.lin2 = Linear(hidden_channels, dataset.num_classes)\n",
    "\n",
    "    def forward(self, x):\n",
    "        x = self.lin1(x)\n",
    "        x = x.relu()\n",
    "        x = F.dropout(x, p=0.5, training=self.training)\n",
    "        x = self.lin2(x)\n",
    "        return x\n",
    "\n",
    "model = MLP(hidden_channels=16)\n",
    "print(model)"
   ]
  },
  {
   "cell_type": "markdown",
   "id": "b8fad4b8-ffa6-4d34-b0b3-b78f31a9029c",
   "metadata": {},
   "source": [
    "### Visualize Initial MLP Embeddings for Different Graph Nodes"
   ]
  },
  {
   "cell_type": "code",
   "execution_count": 11,
   "id": "519dbbdd-17b9-42f2-a614-22dd46b08ab0",
   "metadata": {},
   "outputs": [],
   "source": [
    "model.eval()\n",
    "out = model(data.x)\n",
    "\n",
    "visualize(out.detach().cpu().numpy(), data.y)"
   ]
  },
  {
   "cell_type": "markdown",
   "id": "5babec6c-ed40-4904-bf32-a0b5edde38f7",
   "metadata": {},
   "source": [
    "### Train MLP Model on Graph Dataset"
   ]
  },
  {
   "cell_type": "code",
   "execution_count": 12,
   "id": "e585d0a3-a583-42f9-b99d-1e85ccf78a3e",
   "metadata": {},
   "outputs": [],
   "source": [
    "model = MLP(hidden_channels=16)\n",
    "criterion = torch.nn.CrossEntropyLoss()  \n",
    "optimizer = torch.optim.Adam(model.parameters(), lr=0.01, weight_decay=5e-3)  \n",
    "\n",
    "def train():\n",
    "      model.train()\n",
    "      optimizer.zero_grad()  \n",
    "      out = model(data.x)  \n",
    "      loss = criterion(out[data.train_mask], data.y[data.train_mask])  \n",
    "      loss.backward()  \n",
    "      optimizer.step()  \n",
    "      return loss\n",
    "\n",
    "def test(mask):\n",
    "      model.eval()\n",
    "      out = model(data.x)\n",
    "      pred = out.argmax(dim=1)  \n",
    "      correct = pred[mask] == data.y[mask]  \n",
    "      acc = int(correct.sum()) / int(mask.sum())  \n",
    "      return acc\n",
    "\n",
    "for epoch in range(1, 101):\n",
    "    loss = train()\n",
    "    val_acc = test(data.val_mask)\n",
    "    print(f'Epoch: {epoch:03d}, Loss: {loss:.4f}, Val: {val_acc:.4f}')"
   ]
  },
  {
   "cell_type": "markdown",
   "id": "9cda34b3-b67a-4b7f-84a7-a1ef6c5ffb9b",
   "metadata": {},
   "source": [
    "### Evaluate Model Performance on Test Set"
   ]
  },
  {
   "cell_type": "code",
   "execution_count": 13,
   "id": "c37baf6e-5a7f-4d87-985b-9c759ecd165a",
   "metadata": {},
   "outputs": [],
   "source": [
    "test_acc = test(data.test_mask)\n",
    "\n",
    "print(f'Test Accuracy: {test_acc:.4f}')"
   ]
  },
  {
   "cell_type": "markdown",
   "id": "e2d03b93-4eb0-4f3b-9a9e-92f86b985775",
   "metadata": {},
   "source": [
    "### Visualize Trained Model's Embeddings for Different Graph Nodes"
   ]
  },
  {
   "cell_type": "code",
   "execution_count": 14,
   "id": "14f5951f-68fc-41fc-9af7-cabb0b7b5db8",
   "metadata": {},
   "outputs": [],
   "source": [
    "out = model(data.x)\n",
    "\n",
    "visualize(out.detach().cpu().numpy(), data.y)"
   ]
  },
  {
   "cell_type": "markdown",
   "id": "d8f06155-dd98-4a48-844e-fef5421f8c56",
   "metadata": {},
   "source": [
    "### Graph model 2: `GCN`\n",
    "\n",
    "#### Define & instantiate GCN model"
   ]
  },
  {
   "cell_type": "code",
   "execution_count": 15,
   "id": "89666af6-9e07-4d3d-bc12-b3e79dbadec5",
   "metadata": {},
   "outputs": [],
   "source": [
    "class GCN(torch.nn.Module):\n",
    "    def __init__(self, hidden_channels):\n",
    "        super().__init__()\n",
    "        torch.manual_seed(1234567)\n",
    "        self.conv1 = GCNConv(dataset.num_features, hidden_channels)\n",
    "        self.conv2 = GCNConv(hidden_channels, dataset.num_classes)\n",
    "\n",
    "    def forward(self, x, edge_index):\n",
    "        x = self.conv1(x, edge_index)\n",
    "        x = x.relu()\n",
    "        x = F.dropout(x, p=0.5, training=self.training)\n",
    "        x = self.conv2(x, edge_index)\n",
    "        return x\n",
    "\n",
    "model = GCN(hidden_channels=16)\n",
    "print(model)"
   ]
  },
  {
   "cell_type": "markdown",
   "id": "3bf73923-7a1d-4762-a8fd-14a7616d7349",
   "metadata": {},
   "source": [
    "#### Visualize Initial GCN Embeddings for Different Graph Nodes"
   ]
  },
  {
   "cell_type": "code",
   "execution_count": 20,
   "id": "015b0c36-4ca5-4b3b-aee3-bab54f5a5783",
   "metadata": {},
   "outputs": [],
   "source": [
    "model = GCN(hidden_channels=32)\n",
    "model.eval()\n",
    "\n",
    "out = model(data.x, data.edge_index)\n",
    "visualize(out.detach().cpu().numpy(), data.y)"
   ]
  },
  {
   "cell_type": "markdown",
   "id": "d253fba8-e565-4c0f-a4c4-419bc4fcdd7c",
   "metadata": {},
   "source": [
    "#### Trainingn GCN Model on Graph Dataset"
   ]
  },
  {
   "cell_type": "code",
   "execution_count": 17,
   "id": "6d4c37c9-a3c4-4004-b925-f972185d83cf",
   "metadata": {},
   "outputs": [],
   "source": [
    "model = GCN(hidden_channels=16)\n",
    "optimizer = torch.optim.Adam(model.parameters(), lr=0.01, weight_decay=5e-3)\n",
    "criterion = torch.nn.CrossEntropyLoss()\n",
    "\n",
    "def train():\n",
    "      model.train()\n",
    "      optimizer.zero_grad()  \n",
    "      out = model(data.x, data.edge_index)  \n",
    "      loss = criterion(out[data.train_mask], data.y[data.train_mask])  \n",
    "      loss.backward()  \n",
    "      optimizer.step()  \n",
    "      return loss\n",
    "\n",
    "def test(mask):\n",
    "      model.eval()\n",
    "      out = model(data.x, data.edge_index)\n",
    "      pred = out.argmax(dim=1)  \n",
    "      correct = pred[mask] == data.y[mask]  \n",
    "      acc = int(correct.sum()) / int(mask.sum())  \n",
    "      return acc\n",
    "\n",
    "\n",
    "for epoch in range(1, 101):\n",
    "    loss = train()\n",
    "    val_acc = test(data.val_mask)\n",
    "    print(f'Epoch: {epoch:03d}, Loss: {loss:.4f}, Val: {val_acc:.4f}')"
   ]
  },
  {
   "cell_type": "markdown",
   "id": "e51a3b9d-2d41-4615-ad56-47fc4ed96053",
   "metadata": {},
   "source": [
    "#### Evaluate Model Performance on Test Set"
   ]
  },
  {
   "cell_type": "code",
   "execution_count": 18,
   "id": "ca610796-4e4d-4e9b-bd52-828336bce9b0",
   "metadata": {},
   "outputs": [],
   "source": [
    "test_acc = test(data.test_mask)\n",
    "\n",
    "print(f'Test Accuracy: {test_acc:.4f}')"
   ]
  },
  {
   "cell_type": "markdown",
   "id": "59c212e4-ae7a-484c-b771-0f569a90aa9d",
   "metadata": {},
   "source": [
    "#### Visualize Trained Model's Embeddings for Different Graph Nodes"
   ]
  },
  {
   "cell_type": "code",
   "execution_count": 19,
   "id": "65be11b7-5d0b-48b7-98f2-4b5580a8fdb7",
   "metadata": {},
   "outputs": [],
   "source": [
    "out = model(data.x, data.edge_index)\n",
    "\n",
    "visualize(out.detach().cpu().numpy(), data.y)"
   ]
  },
  {
   "cell_type": "markdown",
   "id": "428c2be8-8289-4543-8008-66dd7a1c4b02",
   "metadata": {},
   "source": [
    "### Graph Model 3: GAT\n",
    "\n",
    "#### Define & Instantiate GAT Model"
   ]
  },
  {
   "cell_type": "code",
   "execution_count": 21,
   "id": "93871418-bcbf-4ffb-b591-381f522f7726",
   "metadata": {},
   "outputs": [],
   "source": [
    "class GAT(torch.nn.Module):\n",
    "    def __init__(self, hidden_channels, heads):\n",
    "        super().__init__()\n",
    "        torch.manual_seed(1234567)\n",
    "        self.conv1 = GATConv(dataset.num_features, hidden_channels, heads)\n",
    "        self.conv2 = GATConv(hidden_channels * heads, dataset.num_classes, heads=1)\n",
    "\n",
    "    def forward(self, x, edge_index):\n",
    "        x = F.dropout(x, p=0.6, training=self.training)\n",
    "        x = self.conv1(x, edge_index)\n",
    "        x = F.relu(x)\n",
    "        x = F.dropout(x, p=0.6, training=self.training)\n",
    "        x = self.conv2(x, edge_index)\n",
    "        return x\n",
    "\n",
    "model = GAT(hidden_channels=16, heads=8)\n",
    "print(model)"
   ]
  },
  {
   "cell_type": "markdown",
   "id": "bdaf368d-3172-4204-866e-e770f01243f3",
   "metadata": {},
   "source": [
    "#### Visualize Initial GAT Embeddings for Different Graph Nodes"
   ]
  },
  {
   "cell_type": "code",
   "execution_count": 22,
   "id": "423fe7d5-4a4a-46df-8fbb-a29835dd8c0d",
   "metadata": {},
   "outputs": [],
   "source": [
    "model.eval()\n",
    "\n",
    "out = model(data.x, data.edge_index)\n",
    "visualize(out.detach().cpu().numpy(), data.y)"
   ]
  },
  {
   "cell_type": "markdown",
   "id": "3bbe11a3-1af7-47ec-8071-99e52de85f24",
   "metadata": {},
   "source": [
    "#### Train GAT Model on Graph Dataset"
   ]
  },
  {
   "cell_type": "code",
   "execution_count": 23,
   "id": "889490ed-d890-488f-8923-783b7b1765a8",
   "metadata": {},
   "outputs": [],
   "source": [
    "optimizer = torch.optim.Adam(model.parameters(), lr=0.0005, weight_decay=1e-1)\n",
    "criterion = torch.nn.CrossEntropyLoss()\n",
    "\n",
    "def train():\n",
    "      model.train()\n",
    "      optimizer.zero_grad()  \n",
    "      out = model(data.x, data.edge_index)  \n",
    "      loss = criterion(out[data.train_mask], data.y[data.train_mask])  \n",
    "      loss.backward()  \n",
    "      optimizer.step()  \n",
    "      return loss\n",
    "\n",
    "def test(mask):\n",
    "      model.eval()\n",
    "      out = model(data.x, data.edge_index)\n",
    "      pred = out.argmax(dim=1)  \n",
    "      correct = pred[mask] == data.y[mask]  \n",
    "      acc = int(correct.sum()) / int(mask.sum())  \n",
    "      return acc\n",
    "\n",
    "\n",
    "for epoch in range(1, 101):\n",
    "    loss = train()\n",
    "    val_acc = test(data.val_mask)\n",
    "    test_acc = test(data.test_mask)\n",
    "    print(f'Epoch: {epoch:03d}, Loss: {loss:.4f}, Val: {val_acc:.4f}')"
   ]
  },
  {
   "cell_type": "markdown",
   "id": "6b042204-c41e-4369-a082-66476ea39f3a",
   "metadata": {},
   "source": [
    "#### Evaluate Model Performance on Test Set"
   ]
  },
  {
   "cell_type": "code",
   "execution_count": 24,
   "id": "b9dc3e2e-45b2-4cb5-a9d8-2b6015d59819",
   "metadata": {},
   "outputs": [],
   "source": [
    "test_acc = test(data.test_mask)\n",
    "\n",
    "print(f'Test Accuracy: {test_acc:.4f}')"
   ]
  },
  {
   "cell_type": "markdown",
   "id": "6de8ad96-d3ea-49a6-bd71-dc8145ba5657",
   "metadata": {},
   "source": [
    "#### Visualize Trained Model's Embeddings for Different Graph Nodes"
   ]
  },
  {
   "cell_type": "code",
   "execution_count": 25,
   "id": "e67fbe7a-0033-409a-b8bb-013dfcfa1edf",
   "metadata": {},
   "outputs": [],
   "source": [
    "out = model(data.x, data.edge_index)\n",
    "\n",
    "visualize(out.detach().cpu().numpy(), data.y)"
   ]
  },
  {
   "cell_type": "code",
   "execution_count": null,
   "id": "ff67895a-0a12-4993-acc3-cd94ce98c122",
   "metadata": {},
   "outputs": [],
   "source": []
  }
 ],
 "metadata": {
  "kernelspec": {
   "display_name": "Python 3 (ipykernel)",
   "language": "python",
   "name": "python3"
  },
  "language_info": {
   "codemirror_mode": {
    "name": "ipython",
    "version": 3
   },
   "file_extension": ".py",
   "mimetype": "text/x-python",
   "name": "python",
   "nbconvert_exporter": "python",
   "pygments_lexer": "ipython3",
   "version": "3.11.11"
  }
 },
 "nbformat": 4,
 "nbformat_minor": 5
}
